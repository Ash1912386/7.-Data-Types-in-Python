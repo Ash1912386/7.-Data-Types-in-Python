{
 "cells": [
  {
   "cell_type": "code",
   "execution_count": 1,
   "id": "9c1b9bbe-308d-43eb-9db6-93a58ca7847d",
   "metadata": {},
   "outputs": [
    {
     "name": "stdout",
     "output_type": "stream",
     "text": [
      "['Ximena', 'Aliza', 'Ayden', 'Calvin', 'Rowen', 'Sandeep']\n"
     ]
    }
   ],
   "source": [
    "baby_names = ['Ximena','Aliza','Ayden','Calvin']\n",
    "\n",
    "baby_names.extend(['Rowen','Sandeep'])\n",
    "\n",
    "print(baby_names)"
   ]
  },
  {
   "cell_type": "code",
   "execution_count": 2,
   "id": "4115ffee-625d-4415-981b-7640f296966b",
   "metadata": {},
   "outputs": [
    {
     "name": "stdout",
     "output_type": "stream",
     "text": [
      "['Ximena', 'Ayden', 'Calvin', 'Rowen', 'Sandeep']\n"
     ]
    }
   ],
   "source": [
    "position = baby_names.index('Aliza')\n",
    "\n",
    "# Remove 'Aliza' from baby_names\n",
    "baby_names.pop(position)\n",
    "\n",
    "print(baby_names)"
   ]
  },
  {
   "cell_type": "code",
   "execution_count": 3,
   "id": "8a410a10-c8f0-4770-88ed-a56766ebe9db",
   "metadata": {},
   "outputs": [],
   "source": [
    "records = [\n",
    "    [\"2014\", \"F\", \"20799\", \"Emma\"],\n",
    "    [\"2014\", \"F\", \"19674\", \"Olivia\"],\n",
    "    [\"2014\", \"F\", \"18490\", \"Sophia\"],\n",
    "    [\"2014\", \"F\", \"16950\", \"Isabella\"],\n",
    "    [\"2014\", \"F\", \"15586\", \"Ava\"],\n",
    "    [\"2014\", \"F\", \"13442\", \"Mia\"],\n",
    "    [\"2014\", \"F\", \"12562\", \"Emily\"],\n",
    "    [\"2014\", \"F\", \"11985\", \"Abigail\"],\n",
    "    [\"2014\", \"F\", \"10247\", \"Madison\"],\n",
    "    [\"2014\", \"F\", \"10048\", \"Charlotte\"],\n",
    "    [\"2014\", \"F\", \"9564\", \"Harper\"],\n",
    "    [\"2014\", \"F\", \"9542\", \"Sofia\"],\n",
    "    [\"2014\", \"F\", \"9517\", \"Avery\"],\n",
    "    [\"2014\", \"F\", \"9492\", \"Elizabeth\"],\n",
    "    [\"2014\", \"F\", \"8727\", \"Amelia\"],\n",
    "    [\"2014\", \"F\", \"8692\", \"Evelyn\"],\n",
    "    [\"2014\", \"F\", \"8489\", \"Ella\"],\n",
    "    [\"2014\", \"F\", \"8469\", \"Chloe\"],\n",
    "    [\"2014\", \"F\", \"7955\", \"Victoria\"],\n",
    "    [\"2014\", \"F\", \"7589\", \"Aubrey\"],\n",
    "    [\"2014\", \"F\", \"7554\", \"Grace\"],\n",
    "    [\"2014\", \"F\", \"7358\", \"Zoey\"],\n",
    "    [\"2014\", \"F\", \"7061\", \"Natalie\"],\n",
    "    [\"2014\", \"F\", \"6950\", \"Addison\"],\n",
    "    [\"2014\", \"F\", \"6869\", \"Lillian\"],\n",
    "    [\"2014\", \"F\", \"6767\", \"Brooklyn\"],\n",
    "]"
   ]
  },
  {
   "cell_type": "code",
   "execution_count": 7,
   "id": "cbb98306-3134-45c5-a342-c6cc8db5a453",
   "metadata": {},
   "outputs": [
    {
     "name": "stdout",
     "output_type": "stream",
     "text": [
      "['Emma', 'Olivia', 'Sophia', 'Isabella', 'Ava', 'Mia', 'Emily', 'Abigail', 'Madison', 'Charlotte', 'Harper', 'Sofia', 'Avery', 'Elizabeth', 'Amelia', 'Evelyn', 'Ella', 'Chloe', 'Victoria', 'Aubrey', 'Grace', 'Zoey', 'Natalie', 'Addison', 'Lillian', 'Brooklyn']\n",
      "-------------------Iterate over the list-------------------\n",
      "Abigail\n",
      "Addison\n",
      "Amelia\n",
      "Aubrey\n",
      "Ava\n",
      "Avery\n",
      "Brooklyn\n",
      "Charlotte\n",
      "Chloe\n",
      "Elizabeth\n",
      "Ella\n",
      "Emily\n",
      "Emma\n",
      "Evelyn\n",
      "Grace\n",
      "Harper\n",
      "Isabella\n",
      "Lillian\n",
      "Madison\n",
      "Mia\n",
      "Natalie\n",
      "Olivia\n",
      "Sofia\n",
      "Sophia\n",
      "Victoria\n",
      "Zoey\n"
     ]
    }
   ],
   "source": [
    "# Create the empty list: baby_names\n",
    "baby_names = []\n",
    "\n",
    "# Loop over records \n",
    "for row in records:\n",
    "    # Add the name to the list\n",
    "    baby_names.append(row[3])\n",
    "\n",
    "print(baby_names)\n",
    "print(\"-------------------Iterate over the list-------------------\")\n",
    "\n",
    "# Sort the names in alphabetical order\n",
    "for name in sorted(baby_names):\n",
    "    # Print each name\n",
    "    print(name)"
   ]
  },
  {
   "cell_type": "code",
   "execution_count": 8,
   "id": "739eb1dc-c77a-447c-adcd-6b76ed43c4f6",
   "metadata": {},
   "outputs": [],
   "source": [
    "girl_names = [\n",
    "    \"Jada\",\n",
    "    \"Emily\",\n",
    "    \"Ava\",\n",
    "    \"Serenity\",\n",
    "    \"Claire\",\n",
    "    \"Sophia\",\n",
    "    \"Sarah\",\n",
    "    \"Ashley\",\n",
    "    \"Chaya\",\n",
    "    \"Abigail\",\n",
    "    \"Zoe\",\n",
    "    \"Leah\",\n",
    "    \"Hailey\",\n",
    "    \"Ava\",\n",
    "    \"Olivia\",\n",
    "    \"Emma\",\n",
    "    \"Chloe\",\n",
    "    \"Sophia\",\n",
    "    \"Aaliyah\",\n",
    "    \"Angela\",\n",
    "    \"Camila\",\n",
    "    \"Savannah\",\n",
    "    \"Serenity\",\n",
    "    \"Chloe\",\n",
    "    \"Fatoumata\",\n",
    "]\n",
    "\n",
    "boy_names = [\n",
    "    \"Josiah\",\n",
    "    \"Ethan\",\n",
    "    \"David\",\n",
    "    \"Jayden\",\n",
    "    \"Mason\",\n",
    "    \"Ryan\",\n",
    "    \"Christian\",\n",
    "    \"Isaiah\",\n",
    "    \"Jayden\",\n",
    "    \"Michael\",\n",
    "    \"Noah\",\n",
    "    \"Samuel\",\n",
    "    \"Sebastian\",\n",
    "    \"Noah\",\n",
    "    \"Dylan\",\n",
    "    \"Lucas\",\n",
    "    \"Joshua\",\n",
    "    \"Angel\",\n",
    "    \"Jacob\",\n",
    "    \"Matthew\",\n",
    "    \"Josiah\",\n",
    "    \"Jacob\",\n",
    "    \"Muhammad\",\n",
    "    \"Alexander\",\n",
    "    \"Jason\",\n",
    "]\n"
   ]
  },
  {
   "cell_type": "code",
   "execution_count": 10,
   "id": "024d62c5-6431-4af2-bda4-add34479d6a3",
   "metadata": {},
   "outputs": [
    {
     "name": "stdout",
     "output_type": "stream",
     "text": [
      "('Jada', 'Josiah')\n",
      "('Emily', 'Ethan')\n",
      "('Ava', 'David')\n",
      "('Serenity', 'Jayden')\n",
      "('Claire', 'Mason')\n",
      "('Sophia', 'Ryan')\n",
      "('Sarah', 'Christian')\n",
      "('Ashley', 'Isaiah')\n",
      "('Chaya', 'Jayden')\n",
      "('Abigail', 'Michael')\n",
      "('Zoe', 'Noah')\n",
      "('Leah', 'Samuel')\n",
      "('Hailey', 'Sebastian')\n",
      "('Ava', 'Noah')\n",
      "('Olivia', 'Dylan')\n",
      "('Emma', 'Lucas')\n",
      "('Chloe', 'Joshua')\n",
      "('Sophia', 'Angel')\n",
      "('Aaliyah', 'Jacob')\n",
      "('Angela', 'Matthew')\n",
      "('Camila', 'Josiah')\n",
      "('Savannah', 'Jacob')\n",
      "('Serenity', 'Muhammad')\n",
      "('Chloe', 'Alexander')\n",
      "('Fatoumata', 'Jason')\n"
     ]
    }
   ],
   "source": [
    "pairs = zip(girl_names,boy_names)\n",
    "\n",
    "# Iterate over pairs\n",
    "for idx, pair in enumerate(pairs):\n",
    "    print(pair)"
   ]
  },
  {
   "cell_type": "code",
   "execution_count": 11,
   "id": "868dd7a7-c77f-4985-ba8b-050a0d7e2a90",
   "metadata": {},
   "outputs": [
    {
     "name": "stdout",
     "output_type": "stream",
     "text": [
      "0\n",
      "1\n",
      "2\n",
      "3\n",
      "4\n",
      "5\n",
      "6\n",
      "7\n",
      "8\n",
      "9\n",
      "10\n",
      "11\n",
      "12\n",
      "13\n",
      "14\n",
      "15\n",
      "16\n",
      "17\n",
      "18\n",
      "19\n",
      "20\n",
      "21\n",
      "22\n",
      "23\n",
      "24\n"
     ]
    }
   ],
   "source": [
    "pairs = zip(girl_names,boy_names)\n",
    "\n",
    "# Iterate over pairs\n",
    "for idx, pair in enumerate(pairs):\n",
    "    print(idx)"
   ]
  },
  {
   "cell_type": "code",
   "execution_count": 12,
   "id": "172dc787-b80d-42b4-81ee-36ea6dfc7e9d",
   "metadata": {},
   "outputs": [
    {
     "name": "stdout",
     "output_type": "stream",
     "text": [
      "Rank 0: Jada and Josiah\n",
      "Rank 1: Emily and Ethan\n",
      "Rank 2: Ava and David\n",
      "Rank 3: Serenity and Jayden\n",
      "Rank 4: Claire and Mason\n",
      "Rank 5: Sophia and Ryan\n",
      "Rank 6: Sarah and Christian\n",
      "Rank 7: Ashley and Isaiah\n",
      "Rank 8: Chaya and Jayden\n",
      "Rank 9: Abigail and Michael\n",
      "Rank 10: Zoe and Noah\n",
      "Rank 11: Leah and Samuel\n",
      "Rank 12: Hailey and Sebastian\n",
      "Rank 13: Ava and Noah\n",
      "Rank 14: Olivia and Dylan\n",
      "Rank 15: Emma and Lucas\n",
      "Rank 16: Chloe and Joshua\n",
      "Rank 17: Sophia and Angel\n",
      "Rank 18: Aaliyah and Jacob\n",
      "Rank 19: Angela and Matthew\n",
      "Rank 20: Camila and Josiah\n",
      "Rank 21: Savannah and Jacob\n",
      "Rank 22: Serenity and Muhammad\n",
      "Rank 23: Chloe and Alexander\n",
      "Rank 24: Fatoumata and Jason\n"
     ]
    }
   ],
   "source": [
    "# Pair up the girl and boy names: pairs\n",
    "pairs = zip(girl_names,boy_names)\n",
    "\n",
    "\n",
    "# Iterate over pairs\n",
    "for idx, pair in enumerate(pairs):\n",
    "    # Unpack pair: girl_name, boy_name\n",
    "    girl_name, boy_name = pair\n",
    "    # Print the rank and names associated with each rank\n",
    "    print('Rank {}: {} and {}'.format(idx, girl_name, boy_name))"
   ]
  },
  {
   "cell_type": "code",
   "execution_count": 13,
   "id": "501a6e58-cdb6-40fd-b10e-08468decc7ef",
   "metadata": {},
   "outputs": [
    {
     "name": "stdout",
     "output_type": "stream",
     "text": [
      "<class 'str'>\n",
      "<class 'tuple'>\n"
     ]
    }
   ],
   "source": [
    "# Create the normal variable: normal\n",
    "normal = 'simple'\n",
    "\n",
    "# Create the mistaken variable: error\n",
    "error = ('trailing comma',)\n",
    "\n",
    "# Print the types of the variables\n",
    "print(type(normal))\n",
    "print(type(error))"
   ]
  },
  {
   "cell_type": "code",
   "execution_count": 14,
   "id": "da6df6ff-fbf9-4098-94a7-4f9420a44aae",
   "metadata": {},
   "outputs": [
    {
     "name": "stdout",
     "output_type": "stream",
     "text": [
      "Rank #: 1 - Jada\n",
      "Rank #: 2 - Emily\n",
      "Rank #: 3 - Ava\n",
      "Rank #: 4 - Serenity\n",
      "Rank #: 5 - Claire\n",
      "Rank #: 6 - Sophia\n",
      "Rank #: 7 - Sarah\n",
      "Rank #: 8 - Ashley\n",
      "Rank #: 9 - Chaya\n",
      "Rank #: 10 - Abigail\n"
     ]
    }
   ],
   "source": [
    "top_ten_girl_names = [\n",
    "    (1, \"Jada\"),\n",
    "    (2, \"Emily\"),\n",
    "    (3, \"Ava\"),\n",
    "    (4, \"Serenity\"),\n",
    "    (5, \"Claire\"),\n",
    "    (6, \"Sophia\"),\n",
    "    (7, \"Sarah\"),\n",
    "    (8, \"Ashley\"),\n",
    "    (9, \"Chaya\"),\n",
    "    (10, \"Abigail\"),\n",
    "]\n",
    "\n",
    "# Loop over top_ten_girl_names and unpack each tuple into top_ten_rank and name\n",
    "for top_ten_rank, name in top_ten_girl_names:\n",
    "  \t# Print each name in the proper format\n",
    "    print(f\"Rank #: { top_ten_rank } - { name }\")\n"
   ]
  },
  {
   "cell_type": "code",
   "execution_count": 15,
   "id": "5c166729-7ddd-4089-80e2-7730644ae993",
   "metadata": {},
   "outputs": [
    {
     "name": "stdout",
     "output_type": "stream",
     "text": [
      "The top ten boy names are: Josiah, Ethan, David, Jayden, Mason, Ryan, Christian, Isaiah, Jayden, and Jason.\n"
     ]
    }
   ],
   "source": [
    "# The top ten boy names are: as preamble\n",
    "preamble = \"The top ten boy names are: \"\n",
    "\n",
    "# , and as conjunction\n",
    "conjunction = \", and\"\n",
    "\n",
    "# Combines the first 9 names in boy_names with a comma and space as first_nine_names\n",
    "first_nine_names = \", \".join(boy_names[0:9])\n",
    "\n",
    "# Print f-string preamble, first_nine_names, conjunction, the final item in boy_names and a period\n",
    "print(f\"{preamble}{first_nine_names}{conjunction} {boy_names[-1]}.\")"
   ]
  },
  {
   "cell_type": "code",
   "execution_count": 16,
   "id": "2e905c75-7aae-424b-b2e2-4314fac28487",
   "metadata": {},
   "outputs": [
    {
     "name": "stdout",
     "output_type": "stream",
     "text": [
      "['Serenity', 'Sophia', 'Sarah', 'Sophia', 'Savannah', 'Serenity']\n"
     ]
    }
   ],
   "source": [
    "names_with_s = [name for name in girl_names if name.lower().startswith('s')]\n",
    "\n",
    "print(names_with_s)"
   ]
  },
  {
   "cell_type": "code",
   "execution_count": 17,
   "id": "0d18da15-6a9d-4294-b5bb-152e13ab3ade",
   "metadata": {},
   "outputs": [
    {
     "name": "stdout",
     "output_type": "stream",
     "text": [
      "['Angela']\n"
     ]
    }
   ],
   "source": [
    "# Store a list of girl_names that contain angel: names_with_angel\n",
    "names_with_angel = [name for name in girl_names if 'angel' in name.lower()]\n",
    "\n",
    "print(names_with_angel)"
   ]
  },
  {
   "cell_type": "code",
   "execution_count": 19,
   "id": "ad52d5ef-71cf-45c0-b284-d928733141b7",
   "metadata": {},
   "outputs": [],
   "source": [
    "squirrels = [\n",
    "    (\"Marcus Garvey Park\", (\"Black\", \"Cinnamon\", \"Cleaning\", None)),\n",
    "    (\"Highbridge Park\",(\"Gray\", \"Cinnamon\", \"Running, Eating\", \"Runs From, watches us in short tree\")),\n",
    "    (\"Madison Square Park\", (\"Gray\", None, \"Foraging\", \"Indifferent\")),\n",
    "    (\"City Hall Park\", (\"Gray\", \"Cinnamon\", \"Eating\", \"Approaches\")),\n",
    "    (\"J. Hood Wright Park\", (\"Gray\", \"White\", \"Running\", \"Indifferent\")),\n",
    "    (\"Seward Park\", (\"Gray\", \"Cinnamon\", \"Eating\", \"Indifferent\")),\n",
    "    (\"Union Square Park\", (\"Gray\", \"Black\", \"Climbing\", None)),\n",
    "    (\"Tompkins Square Park\", (\"Gray\", \"Gray\", \"Lounging\", \"Approaches\")),\n",
    "]\n"
   ]
  },
  {
   "cell_type": "code",
   "execution_count": 20,
   "id": "bd8a2e4d-a94b-4155-8425-6a8876a57096",
   "metadata": {},
   "outputs": [
    {
     "name": "stdout",
     "output_type": "stream",
     "text": [
      "Marcus Garvey Park\n",
      "Highbridge Park\n",
      "Madison Square Park\n",
      "City Hall Park\n",
      "J. Hood Wright Park\n",
      "Seward Park\n",
      "Union Square Park\n",
      "Tompkins Square Park\n"
     ]
    }
   ],
   "source": [
    "squirrels_by_park = {}\n",
    "\n",
    "\n",
    "# Loop over the squirrels list and unpack each tuple\n",
    "for park, squirrel_details in squirrels:\n",
    "    # Add each squirrel_details to the squirrels_by_park dictionary\n",
    "    print(park)"
   ]
  },
  {
   "cell_type": "code",
   "execution_count": 21,
   "id": "954920f1-b0bb-402f-ad84-47139ee27b9c",
   "metadata": {},
   "outputs": [
    {
     "name": "stdout",
     "output_type": "stream",
     "text": [
      "('Black', 'Cinnamon', 'Cleaning', None)\n",
      "('Gray', 'Cinnamon', 'Running, Eating', 'Runs From, watches us in short tree')\n",
      "('Gray', None, 'Foraging', 'Indifferent')\n",
      "('Gray', 'Cinnamon', 'Eating', 'Approaches')\n",
      "('Gray', 'White', 'Running', 'Indifferent')\n",
      "('Gray', 'Cinnamon', 'Eating', 'Indifferent')\n",
      "('Gray', 'Black', 'Climbing', None)\n",
      "('Gray', 'Gray', 'Lounging', 'Approaches')\n"
     ]
    }
   ],
   "source": [
    "squirrels_by_park = {}\n",
    "\n",
    "\n",
    "# Loop over the squirrels list and unpack each tuple\n",
    "for park, squirrel_details in squirrels:\n",
    "    # Add each squirrel_details to the squirrels_by_park dictionary\n",
    "    print(squirrel_details)"
   ]
  },
  {
   "cell_type": "code",
   "execution_count": 22,
   "id": "fbdde447-a460-4432-b004-ed9e1405364c",
   "metadata": {},
   "outputs": [
    {
     "name": "stdout",
     "output_type": "stream",
     "text": [
      "('Gray', 'Gray', 'Lounging', 'Approaches')\n"
     ]
    }
   ],
   "source": [
    "# Create an empty dictionary: squirrels_by_park\n",
    "squirrels_by_park = {}\n",
    "\n",
    "\n",
    "# Loop over the squirrels list and unpack each tuple\n",
    "for park, squirrel_details in squirrels:\n",
    "    # Add each squirrel_details to the squirrels_by_park dictionary\n",
    "    squirrels_by_park[park] = squirrel_details\n",
    "\n",
    "print(squirrel_details)"
   ]
  },
  {
   "cell_type": "code",
   "execution_count": 23,
   "id": "c5e74480-1713-4c9a-91fc-b649ad1b49b9",
   "metadata": {},
   "outputs": [
    {
     "name": "stdout",
     "output_type": "stream",
     "text": [
      "City Hall Park: ('Gray', 'Cinnamon', 'Eating', 'Approaches')\n",
      "Highbridge Park: ('Gray', 'Cinnamon', 'Running, Eating', 'Runs From, watches us in short tree')\n",
      "J. Hood Wright Park: ('Gray', 'White', 'Running', 'Indifferent')\n",
      "Madison Square Park: ('Gray', None, 'Foraging', 'Indifferent')\n",
      "Marcus Garvey Park: ('Black', 'Cinnamon', 'Cleaning', None)\n",
      "Seward Park: ('Gray', 'Cinnamon', 'Eating', 'Indifferent')\n",
      "Tompkins Square Park: ('Gray', 'Gray', 'Lounging', 'Approaches')\n",
      "Union Square Park: ('Gray', 'Black', 'Climbing', None)\n"
     ]
    }
   ],
   "source": [
    "# Create an empty dictionary: squirrels_by_park\n",
    "squirrels_by_park = {}\n",
    "\n",
    "\n",
    "# Loop over the squirrels list and unpack each tuple\n",
    "for park, squirrel_details in squirrels:\n",
    "    # Add each squirrel_details to the squirrels_by_park dictionary\n",
    "    squirrels_by_park[park] = squirrel_details\n",
    "    \n",
    "# Sort the squirrels_by_park dict alphabetically by park\n",
    "for park in sorted(squirrels_by_park):\n",
    "    # Print each park and its value in squirrels_by_park\n",
    "    print(f'{park}: {squirrels_by_park[park]}')\n"
   ]
  },
  {
   "cell_type": "code",
   "execution_count": 24,
   "id": "8a7689e8-9cf1-4513-b5d1-931984c4cda8",
   "metadata": {},
   "outputs": [
    {
     "name": "stdout",
     "output_type": "stream",
     "text": [
      "('Gray', 'Black', 'Climbing', None)\n"
     ]
    }
   ],
   "source": [
    "# Safely print 'Union Square Park' from the squirrels_by_park dictionary\n",
    "print(squirrels_by_park.get('Union Square Park'))"
   ]
  },
  {
   "cell_type": "code",
   "execution_count": 25,
   "id": "bca5497e-4ec0-47e4-b79f-d7243a67c401",
   "metadata": {},
   "outputs": [
    {
     "name": "stdout",
     "output_type": "stream",
     "text": [
      "<class 'NoneType'>\n"
     ]
    }
   ],
   "source": [
    "# Safely print the type of 'Fort Tryon Park' from the squirrels_by_park dictionary\n",
    "print(type(squirrels_by_park.get('Fort Tryon Park')))"
   ]
  },
  {
   "cell_type": "code",
   "execution_count": 26,
   "id": "ba39e2ae-84f5-44a6-bffc-081a2fdd401f",
   "metadata": {},
   "outputs": [
    {
     "name": "stdout",
     "output_type": "stream",
     "text": [
      "Not Found\n"
     ]
    }
   ],
   "source": [
    "# Safely print 'Central Park' from the squirrels_by_park dictionary or 'Not Found'\n",
    "print(squirrels_by_park.get('Central Park', 'Not Found'))"
   ]
  },
  {
   "cell_type": "code",
   "execution_count": 47,
   "id": "2a2c677d-9e46-4a11-b32b-0743914d4334",
   "metadata": {},
   "outputs": [],
   "source": [
    "squirrels_union = (\n",
    "    \"Union Square Park\",\n",
    "    [\n",
    "        {\n",
    "            \"primary_fur_color\": \"Gray\",\n",
    "            \"highlights_in_fur_color\": None,\n",
    "            \"activities\": \"Eating, Foraging\",\n",
    "            \"interactions_with_humans\": None,\n",
    "        },\n",
    "        {\n",
    "            \"primary_fur_color\": \"Gray\",\n",
    "            \"highlights_in_fur_color\": \"Cinnamon\",\n",
    "            \"activities\": \"Climbing, Eating\",\n",
    "            \"interactions_with_humans\": None,\n",
    "        },\n",
    "        {\n",
    "            \"primary_fur_color\": \"Cinnamon\",\n",
    "            \"highlights_in_fur_color\": None,\n",
    "            \"activities\": \"Foraging\",\n",
    "            \"interactions_with_humans\": \"Indifferent\",\n",
    "        },\n",
    "        {\n",
    "            \"primary_fur_color\": \"Gray\",\n",
    "            \"highlights_in_fur_color\": None,\n",
    "            \"activities\": \"Running, Digging\",\n",
    "            \"interactions_with_humans\": \"Runs From\",\n",
    "        },\n",
    "        {\n",
    "            \"primary_fur_color\": \"Gray\",\n",
    "            \"highlights_in_fur_color\": None,\n",
    "            \"activities\": \"Digging\",\n",
    "            \"interactions_with_humans\": \"Indifferent\",\n",
    "        },\n",
    "        {\n",
    "            \"primary_fur_color\": \"Gray\",\n",
    "            \"highlights_in_fur_color\": \"Black\",\n",
    "            \"activities\": \"Climbing\",\n",
    "            \"interactions_with_humans\": None,\n",
    "        },\n",
    "        {\n",
    "            \"primary_fur_color\": \"Gray\",\n",
    "            \"highlights_in_fur_color\": None,\n",
    "            \"activities\": \"Eating, Foraging\",\n",
    "            \"interactions_with_humans\": None,\n",
    "        },\n",
    "    ],\n",
    ")\n"
   ]
  },
  {
   "cell_type": "code",
   "execution_count": 48,
   "id": "2a0ecafb-1392-46fc-8341-dba26da229bc",
   "metadata": {},
   "outputs": [],
   "source": [
    "squirrels_madison = [\n",
    "    {\n",
    "        \"primary_fur_color\": \"Gray\",\n",
    "        \"highlights_in_fur_color\": None,\n",
    "        \"activities\": \"Sitting\",\n",
    "        \"interactions_with_humans\": \"Indifferent\",\n",
    "    },\n",
    "    {\n",
    "        \"primary_fur_color\": \"Gray\",\n",
    "        \"highlights_in_fur_color\": \"Cinnamon\",\n",
    "        \"activities\": \"Foraging\",\n",
    "        \"interactions_with_humans\": \"Indifferent\",\n",
    "    },\n",
    "    {\n",
    "        \"primary_fur_color\": \"Gray\",\n",
    "        \"highlights_in_fur_color\": None,\n",
    "        \"activities\": \"Climbing, Foraging\",\n",
    "        \"interactions_with_humans\": \"Indifferent\",\n",
    "    },\n",
    "]\n"
   ]
  },
  {
   "cell_type": "code",
   "execution_count": 41,
   "id": "dc4da6ea-649e-4627-ac57-0c0a669d4d75",
   "metadata": {},
   "outputs": [
    {
     "name": "stdout",
     "output_type": "stream",
     "text": [
      "('Union Square Park', [{'primary_fur_color': 'Gray', 'highlights_in_fur_color': None, 'activities': 'Eating, Foraging', 'interactions_with_humans': None}, {'primary_fur_color': 'Gray', 'highlights_in_fur_color': 'Cinnamon', 'activities': 'Climbing, Eating', 'interactions_with_humans': None}, {'primary_fur_color': 'Cinnamon', 'highlights_in_fur_color': None, 'activities': 'Foraging', 'interactions_with_humans': 'Indifferent'}, {'primary_fur_color': 'Gray', 'highlights_in_fur_color': None, 'activities': 'Running, Digging', 'interactions_with_humans': 'Runs From'}, {'primary_fur_color': 'Gray', 'highlights_in_fur_color': None, 'activities': 'Digging', 'interactions_with_humans': 'Indifferent'}, {'primary_fur_color': 'Gray', 'highlights_in_fur_color': 'Black', 'activities': 'Climbing', 'interactions_with_humans': None}, {'primary_fur_color': 'Gray', 'highlights_in_fur_color': None, 'activities': 'Eating, Foraging', 'interactions_with_humans': None}])\n"
     ]
    },
    {
     "ename": "AttributeError",
     "evalue": "'str' object has no attribute 'get'",
     "output_type": "error",
     "traceback": [
      "\u001b[1;31m---------------------------------------------------------------------------\u001b[0m",
      "\u001b[1;31mAttributeError\u001b[0m                            Traceback (most recent call last)",
      "Cell \u001b[1;32mIn[41], line 13\u001b[0m\n\u001b[0;32m     10\u001b[0m \u001b[38;5;66;03m# Loop over the park_name in the squirrels_by_park dictionary \u001b[39;00m\n\u001b[0;32m     11\u001b[0m \u001b[38;5;28;01mfor\u001b[39;00m park_name \u001b[38;5;129;01min\u001b[39;00m squirrels_by_park:\n\u001b[0;32m     12\u001b[0m     \u001b[38;5;66;03m# Safely print a list of the primary_fur_color for each squirrel in park_name\u001b[39;00m\n\u001b[1;32m---> 13\u001b[0m     \u001b[38;5;28mprint\u001b[39m(park_name, [squirrel\u001b[38;5;241m.\u001b[39mget(\u001b[38;5;124m'\u001b[39m\u001b[38;5;124mprimary_fur_color\u001b[39m\u001b[38;5;124m'\u001b[39m, \u001b[38;5;124m'\u001b[39m\u001b[38;5;124mN/A\u001b[39m\u001b[38;5;124m'\u001b[39m) \u001b[38;5;28;01mfor\u001b[39;00m squirrel \u001b[38;5;129;01min\u001b[39;00m squirrels_by_park[park_name]])\n",
      "Cell \u001b[1;32mIn[41], line 13\u001b[0m, in \u001b[0;36m<listcomp>\u001b[1;34m(.0)\u001b[0m\n\u001b[0;32m     10\u001b[0m \u001b[38;5;66;03m# Loop over the park_name in the squirrels_by_park dictionary \u001b[39;00m\n\u001b[0;32m     11\u001b[0m \u001b[38;5;28;01mfor\u001b[39;00m park_name \u001b[38;5;129;01min\u001b[39;00m squirrels_by_park:\n\u001b[0;32m     12\u001b[0m     \u001b[38;5;66;03m# Safely print a list of the primary_fur_color for each squirrel in park_name\u001b[39;00m\n\u001b[1;32m---> 13\u001b[0m     \u001b[38;5;28mprint\u001b[39m(park_name, [squirrel\u001b[38;5;241m.\u001b[39mget(\u001b[38;5;124m'\u001b[39m\u001b[38;5;124mprimary_fur_color\u001b[39m\u001b[38;5;124m'\u001b[39m, \u001b[38;5;124m'\u001b[39m\u001b[38;5;124mN/A\u001b[39m\u001b[38;5;124m'\u001b[39m) \u001b[38;5;28;01mfor\u001b[39;00m squirrel \u001b[38;5;129;01min\u001b[39;00m squirrels_by_park[park_name]])\n",
      "\u001b[1;31mAttributeError\u001b[0m: 'str' object has no attribute 'get'"
     ]
    }
   ],
   "source": [
    "print(squirrels_union)\n",
    "\n",
    "\n",
    "# Assign squirrels_madison as the value to the 'Madison Square Park' key\n",
    "squirrels_by_park['Madison Square Park'] = squirrels_madison\n",
    "\n",
    "# Update squirrels_by_park with the squirrels_union tuple\n",
    "squirrels_by_park.update([squirrels_union])\n",
    "\n",
    "# Loop over the park_name in the squirrels_by_park dictionary \n",
    "for park_name in squirrels_by_park:\n",
    "    # Safely print a list of the primary_fur_color for each squirrel in park_name\n",
    "    print(park_name, [squirrel.get('primary_fur_color', 'N/A') for squirrel in squirrels_by_park[park_name]])\n",
    "\n"
   ]
  },
  {
   "cell_type": "code",
   "execution_count": 42,
   "id": "2d24f605-dd87-436a-bd9c-ed493d61c2d3",
   "metadata": {},
   "outputs": [
    {
     "name": "stdout",
     "output_type": "stream",
     "text": [
      "Marcus Garvey Park ['Black', 'Cinnamon', 'Cleaning', None]\n",
      "Highbridge Park ['Gray', 'Cinnamon', 'Running, Eating', 'Runs From, watches us in short tree']\n",
      "Madison Square Park ['Gray', 'Gray', 'Gray']\n",
      "City Hall Park ['Gray', 'Cinnamon', 'Eating', 'Approaches']\n",
      "J. Hood Wright Park ['Gray', 'White', 'Running', 'Indifferent']\n",
      "Seward Park ['Gray', 'Cinnamon', 'Eating', 'Indifferent']\n",
      "Union Square Park ['Gray', 'Gray', 'Cinnamon', 'Gray', 'Gray', 'Gray', 'Gray']\n",
      "Tompkins Square Park ['Gray', 'Gray', 'Lounging', 'Approaches']\n"
     ]
    }
   ],
   "source": [
    "# Loop over the park_name in the squirrels_by_park dictionary \n",
    "for park_name in squirrels_by_park:\n",
    "    # Safely print a list of the primary_fur_color for each squirrel in park_name\n",
    "    print(park_name, [\n",
    "        squirrel.get('primary_fur_color', 'N/A') \n",
    "        if isinstance(squirrel, dict) else squirrel \n",
    "        for squirrel in squirrels_by_park[park_name]\n",
    "    ])\n"
   ]
  },
  {
   "cell_type": "code",
   "execution_count": 43,
   "id": "c8e0d461-edbb-48d8-801d-0577cff14d49",
   "metadata": {},
   "outputs": [
    {
     "name": "stdout",
     "output_type": "stream",
     "text": [
      "{'Marcus Garvey Park': ('Black', 'Cinnamon', 'Cleaning', None), 'Highbridge Park': ('Gray', 'Cinnamon', 'Running, Eating', 'Runs From, watches us in short tree'), 'J. Hood Wright Park': ('Gray', 'White', 'Running', 'Indifferent'), 'Seward Park': ('Gray', 'Cinnamon', 'Eating', 'Indifferent'), 'Tompkins Square Park': ('Gray', 'Gray', 'Lounging', 'Approaches')}\n"
     ]
    }
   ],
   "source": [
    "# Remove \"Madison Square Park\" from squirrels_by_park and store it\n",
    "squirrels_madison = squirrels_by_park.pop(\"Madison Square Park\")\n",
    "\n",
    "# Safely remove \"City Hall Park\" from squirrels_by_park with an empty dictionary as the default\n",
    "squirrels_city_hall = squirrels_by_park.pop(\"City Hall Park\", {})\n",
    "\n",
    "# Delete \"Union Square Park\" from squirrels_by_park\n",
    "del squirrels_by_park[\"Union Square Park\"]\n",
    "\n",
    "# Print squirrels_by_park\n",
    "print(squirrels_by_park)\n"
   ]
  },
  {
   "cell_type": "code",
   "execution_count": 35,
   "id": "e62a2424-57e9-49fe-bf9e-aca4756c83f9",
   "metadata": {},
   "outputs": [],
   "source": [
    "from pprint import pprint"
   ]
  },
  {
   "cell_type": "code",
   "execution_count": 36,
   "id": "df053638-0ccb-4053-91b0-ddd209e88b2b",
   "metadata": {},
   "outputs": [
    {
     "name": "stdout",
     "output_type": "stream",
     "text": [
      "{'City Hall Park': ('Gray', 'Cinnamon', 'Eating', 'Approaches'),\n",
      " 'Highbridge Park': ('Gray',\n",
      "                     'Cinnamon',\n",
      "                     'Running, Eating',\n",
      "                     'Runs From, watches us in short tree'),\n",
      " 'J. Hood Wright Park': ('Gray', 'White', 'Running', 'Indifferent'),\n",
      " 'Madison Square Park': [{'activities': 'Sitting',\n",
      "                          'highlights_in_fur_color': None,\n",
      "                          'interactions_with_humans': 'Indifferent',\n",
      "                          'primary_fur_color': 'Gray'},\n",
      "                         {'activities': 'Foraging',\n",
      "                          'highlights_in_fur_color': 'Cinnamon',\n",
      "                          'interactions_with_humans': 'Indifferent',\n",
      "                          'primary_fur_color': 'Gray'},\n",
      "                         {'activities': 'Climbing, Foraging',\n",
      "                          'highlights_in_fur_color': None,\n",
      "                          'interactions_with_humans': 'Indifferent',\n",
      "                          'primary_fur_color': 'Gray'}],\n",
      " 'Marcus Garvey Park': ('Black', 'Cinnamon', 'Cleaning', None),\n",
      " 'Seward Park': ('Gray', 'Cinnamon', 'Eating', 'Indifferent'),\n",
      " 'Tompkins Square Park': ('Gray', 'Gray', 'Lounging', 'Approaches'),\n",
      " 'Union Square Park': [{'activities': 'Eating, Foraging',\n",
      "                        'highlights_in_fur_color': None,\n",
      "                        'interactions_with_humans': None,\n",
      "                        'primary_fur_color': 'Gray'},\n",
      "                       {'activities': 'Climbing, Eating',\n",
      "                        'highlights_in_fur_color': 'Cinnamon',\n",
      "                        'interactions_with_humans': None,\n",
      "                        'primary_fur_color': 'Gray'},\n",
      "                       {'activities': 'Foraging',\n",
      "                        'highlights_in_fur_color': None,\n",
      "                        'interactions_with_humans': 'Indifferent',\n",
      "                        'primary_fur_color': 'Cinnamon'},\n",
      "                       {'activities': 'Running, Digging',\n",
      "                        'highlights_in_fur_color': None,\n",
      "                        'interactions_with_humans': 'Runs From',\n",
      "                        'primary_fur_color': 'Gray'},\n",
      "                       {'activities': 'Digging',\n",
      "                        'highlights_in_fur_color': None,\n",
      "                        'interactions_with_humans': 'Indifferent',\n",
      "                        'primary_fur_color': 'Gray'},\n",
      "                       {'activities': 'Climbing',\n",
      "                        'highlights_in_fur_color': 'Black',\n",
      "                        'interactions_with_humans': None,\n",
      "                        'primary_fur_color': 'Gray'},\n",
      "                       {'activities': 'Eating, Foraging',\n",
      "                        'highlights_in_fur_color': None,\n",
      "                        'interactions_with_humans': None,\n",
      "                        'primary_fur_color': 'Gray'}]}\n"
     ]
    }
   ],
   "source": [
    "# Assign squirrels_madison as the value to the 'Madison Square Park' key\n",
    "squirrels_by_park['Madison Square Park'] = squirrels_madison\n",
    "\n",
    "# Update squirrels_by_park with the squirrels_union tuple\n",
    "squirrels_by_park.update([squirrels_union])\n",
    "\n",
    "pprint(squirrels_by_park)"
   ]
  },
  {
   "cell_type": "code",
   "execution_count": 38,
   "id": "3319b831-0f7c-4daf-a6ec-e63720164ddf",
   "metadata": {},
   "outputs": [
    {
     "ename": "AttributeError",
     "evalue": "'str' object has no attribute 'get'",
     "output_type": "error",
     "traceback": [
      "\u001b[1;31m---------------------------------------------------------------------------\u001b[0m",
      "\u001b[1;31mAttributeError\u001b[0m                            Traceback (most recent call last)",
      "Cell \u001b[1;32mIn[38], line 3\u001b[0m\n\u001b[0;32m      1\u001b[0m \u001b[38;5;28;01mfor\u001b[39;00m park_name \u001b[38;5;129;01min\u001b[39;00m squirrels_by_park:\n\u001b[0;32m      2\u001b[0m     \u001b[38;5;66;03m# Safely print a list of the primary_fur_color for each squirrel in park_name\u001b[39;00m\n\u001b[1;32m----> 3\u001b[0m     \u001b[38;5;28mprint\u001b[39m(park_name, [squirrel\u001b[38;5;241m.\u001b[39mget(\u001b[38;5;124m'\u001b[39m\u001b[38;5;124mprimary_fur_color\u001b[39m\u001b[38;5;124m'\u001b[39m, \u001b[38;5;124m'\u001b[39m\u001b[38;5;124mN/A\u001b[39m\u001b[38;5;124m'\u001b[39m) \u001b[38;5;28;01mfor\u001b[39;00m squirrel \u001b[38;5;129;01min\u001b[39;00m squirrels_by_park[park_name]])\n",
      "Cell \u001b[1;32mIn[38], line 3\u001b[0m, in \u001b[0;36m<listcomp>\u001b[1;34m(.0)\u001b[0m\n\u001b[0;32m      1\u001b[0m \u001b[38;5;28;01mfor\u001b[39;00m park_name \u001b[38;5;129;01min\u001b[39;00m squirrels_by_park:\n\u001b[0;32m      2\u001b[0m     \u001b[38;5;66;03m# Safely print a list of the primary_fur_color for each squirrel in park_name\u001b[39;00m\n\u001b[1;32m----> 3\u001b[0m     \u001b[38;5;28mprint\u001b[39m(park_name, [squirrel\u001b[38;5;241m.\u001b[39mget(\u001b[38;5;124m'\u001b[39m\u001b[38;5;124mprimary_fur_color\u001b[39m\u001b[38;5;124m'\u001b[39m, \u001b[38;5;124m'\u001b[39m\u001b[38;5;124mN/A\u001b[39m\u001b[38;5;124m'\u001b[39m) \u001b[38;5;28;01mfor\u001b[39;00m squirrel \u001b[38;5;129;01min\u001b[39;00m squirrels_by_park[park_name]])\n",
      "\u001b[1;31mAttributeError\u001b[0m: 'str' object has no attribute 'get'"
     ]
    }
   ],
   "source": [
    "for park_name in squirrels_by_park:\n",
    "    # Safely print a list of the primary_fur_color for each squirrel in park_name\n",
    "    print(park_name, [squirrel.get('primary_fur_color', 'N/A') for squirrel in squirrels_by_park[park_name]])"
   ]
  },
  {
   "cell_type": "code",
   "execution_count": 37,
   "id": "6ceff2ac-3785-41f1-9bba-594f1e8c2766",
   "metadata": {},
   "outputs": [
    {
     "name": "stdout",
     "output_type": "stream",
     "text": [
      "{\n",
      "    \"Marcus Garvey Park\": [\n",
      "        \"Black\",\n",
      "        \"Cinnamon\",\n",
      "        \"Cleaning\",\n",
      "        null\n",
      "    ],\n",
      "    \"Highbridge Park\": [\n",
      "        \"Gray\",\n",
      "        \"Cinnamon\",\n",
      "        \"Running, Eating\",\n",
      "        \"Runs From, watches us in short tree\"\n",
      "    ],\n",
      "    \"Madison Square Park\": [\n",
      "        {\n",
      "            \"primary_fur_color\": \"Gray\",\n",
      "            \"highlights_in_fur_color\": null,\n",
      "            \"activities\": \"Sitting\",\n",
      "            \"interactions_with_humans\": \"Indifferent\"\n",
      "        },\n",
      "        {\n",
      "            \"primary_fur_color\": \"Gray\",\n",
      "            \"highlights_in_fur_color\": \"Cinnamon\",\n",
      "            \"activities\": \"Foraging\",\n",
      "            \"interactions_with_humans\": \"Indifferent\"\n",
      "        },\n",
      "        {\n",
      "            \"primary_fur_color\": \"Gray\",\n",
      "            \"highlights_in_fur_color\": null,\n",
      "            \"activities\": \"Climbing, Foraging\",\n",
      "            \"interactions_with_humans\": \"Indifferent\"\n",
      "        }\n",
      "    ],\n",
      "    \"City Hall Park\": [\n",
      "        \"Gray\",\n",
      "        \"Cinnamon\",\n",
      "        \"Eating\",\n",
      "        \"Approaches\"\n",
      "    ],\n",
      "    \"J. Hood Wright Park\": [\n",
      "        \"Gray\",\n",
      "        \"White\",\n",
      "        \"Running\",\n",
      "        \"Indifferent\"\n",
      "    ],\n",
      "    \"Seward Park\": [\n",
      "        \"Gray\",\n",
      "        \"Cinnamon\",\n",
      "        \"Eating\",\n",
      "        \"Indifferent\"\n",
      "    ],\n",
      "    \"Union Square Park\": [\n",
      "        {\n",
      "            \"primary_fur_color\": \"Gray\",\n",
      "            \"highlights_in_fur_color\": null,\n",
      "            \"activities\": \"Eating, Foraging\",\n",
      "            \"interactions_with_humans\": null\n",
      "        },\n",
      "        {\n",
      "            \"primary_fur_color\": \"Gray\",\n",
      "            \"highlights_in_fur_color\": \"Cinnamon\",\n",
      "            \"activities\": \"Climbing, Eating\",\n",
      "            \"interactions_with_humans\": null\n",
      "        },\n",
      "        {\n",
      "            \"primary_fur_color\": \"Cinnamon\",\n",
      "            \"highlights_in_fur_color\": null,\n",
      "            \"activities\": \"Foraging\",\n",
      "            \"interactions_with_humans\": \"Indifferent\"\n",
      "        },\n",
      "        {\n",
      "            \"primary_fur_color\": \"Gray\",\n",
      "            \"highlights_in_fur_color\": null,\n",
      "            \"activities\": \"Running, Digging\",\n",
      "            \"interactions_with_humans\": \"Runs From\"\n",
      "        },\n",
      "        {\n",
      "            \"primary_fur_color\": \"Gray\",\n",
      "            \"highlights_in_fur_color\": null,\n",
      "            \"activities\": \"Digging\",\n",
      "            \"interactions_with_humans\": \"Indifferent\"\n",
      "        },\n",
      "        {\n",
      "            \"primary_fur_color\": \"Gray\",\n",
      "            \"highlights_in_fur_color\": \"Black\",\n",
      "            \"activities\": \"Climbing\",\n",
      "            \"interactions_with_humans\": null\n",
      "        },\n",
      "        {\n",
      "            \"primary_fur_color\": \"Gray\",\n",
      "            \"highlights_in_fur_color\": null,\n",
      "            \"activities\": \"Eating, Foraging\",\n",
      "            \"interactions_with_humans\": null\n",
      "        }\n",
      "    ],\n",
      "    \"Tompkins Square Park\": [\n",
      "        \"Gray\",\n",
      "        \"Gray\",\n",
      "        \"Lounging\",\n",
      "        \"Approaches\"\n",
      "    ]\n",
      "}\n"
     ]
    }
   ],
   "source": [
    "import json\n",
    "\n",
    "# Print squirrels_by_park in a more readable JSON-like format\n",
    "print(json.dumps(squirrels_by_park, indent=4))"
   ]
  },
  {
   "cell_type": "code",
   "execution_count": 49,
   "id": "84051576-0e1b-4561-b98b-fe6d7383506e",
   "metadata": {},
   "outputs": [],
   "source": [
    "squirrels_by_park = {\n",
    "    \"Madison Square Park\": [\n",
    "        {\n",
    "            \"primary_fur_color\": \"Gray\",\n",
    "            \"highlights_in_fur_color\": None,\n",
    "            \"activities\": \"Foraging\",\n",
    "            \"interactions_with_humans\": \"Indifferent\",\n",
    "        },\n",
    "        {\n",
    "            \"primary_fur_color\": \"Gray\",\n",
    "            \"highlights_in_fur_color\": None,\n",
    "            \"activities\": \"Sitting\",\n",
    "            \"interactions_with_humans\": \"Indifferent\",\n",
    "        },\n",
    "    ],\n",
    "    \"Union Square Park\": [\n",
    "        {\n",
    "            \"primary_fur_color\": \"Gray\",\n",
    "            \"highlights_in_fur_color\": None,\n",
    "            \"activities\": \"Eating, Foraging\",\n",
    "            \"interactions_with_humans\": None,\n",
    "        },\n",
    "        {\n",
    "            \"primary_fur_color\": \"Cinnamon\",\n",
    "            \"highlights_in_fur_color\": None,\n",
    "            \"activities\": \"Foraging\",\n",
    "            \"interactions_with_humans\": None,\n",
    "        },\n",
    "        {\n",
    "            \"primary_fur_color\": \"Gray\",\n",
    "            \"highlights_in_fur_color\": None,\n",
    "            \"activities\": \"Eating, Foraging\",\n",
    "            \"interactions_with_humans\": None,\n",
    "        },\n",
    "        {\n",
    "            \"primary_fur_color\": \"Gray\",\n",
    "            \"highlights_in_fur_color\": None,\n",
    "            \"activities\": \"Digging\",\n",
    "            \"interactions_with_humans\": \"Indifferent\",\n",
    "        },\n",
    "    ],\n",
    "}\n"
   ]
  },
  {
   "cell_type": "code",
   "execution_count": 51,
   "id": "38d48d8d-6bc7-47ed-969b-fb8482cbef96",
   "metadata": {},
   "outputs": [
    {
     "name": "stdout",
     "output_type": "stream",
     "text": [
      "primary_fur_color Gray\n",
      "highlights_in_fur_color None\n",
      "activities Foraging\n",
      "interactions_with_humans Indifferent\n",
      "-------------\n",
      "primary_fur_color Cinnamon\n",
      "highlights_in_fur_color None\n",
      "activities Foraging\n",
      "interactions_with_humans None\n"
     ]
    }
   ],
   "source": [
    "# Iterate over the first squirrel entry in the Madison Square Park list\n",
    "for field, value in squirrels_by_park[\"Madison Square Park\"][0].items():\n",
    "    # Print field and value\n",
    "    print(field, value)\n",
    "\n",
    "print('-' * 13)\n",
    "\n",
    "# Iterate over the second squirrel entry in the Union Square Park list\n",
    "for field, value in squirrels_by_park[\"Union Square Park\"][1].items():\n",
    "    # Print field and value\n",
    "    print(field, value)"
   ]
  },
  {
   "cell_type": "code",
   "execution_count": 52,
   "id": "5b9ae2a1-66fe-4ac8-bd2e-791b3d340fe1",
   "metadata": {},
   "outputs": [
    {
     "data": {
      "text/html": [
       "<div>\n",
       "<style scoped>\n",
       "    .dataframe tbody tr th:only-of-type {\n",
       "        vertical-align: middle;\n",
       "    }\n",
       "\n",
       "    .dataframe tbody tr th {\n",
       "        vertical-align: top;\n",
       "    }\n",
       "\n",
       "    .dataframe thead th {\n",
       "        text-align: right;\n",
       "    }\n",
       "</style>\n",
       "<table border=\"1\" class=\"dataframe\">\n",
       "  <thead>\n",
       "    <tr style=\"text-align: right;\">\n",
       "      <th></th>\n",
       "      <th>BRITH_YEAR</th>\n",
       "      <th>GENDER</th>\n",
       "      <th>ETHNICTY</th>\n",
       "      <th>NAME</th>\n",
       "      <th>COUNT</th>\n",
       "      <th>RANK</th>\n",
       "    </tr>\n",
       "  </thead>\n",
       "  <tbody>\n",
       "    <tr>\n",
       "      <th>0</th>\n",
       "      <td>2011</td>\n",
       "      <td>FEMALE</td>\n",
       "      <td>HISPANIC</td>\n",
       "      <td>GERALDINE</td>\n",
       "      <td>13</td>\n",
       "      <td>75</td>\n",
       "    </tr>\n",
       "    <tr>\n",
       "      <th>1</th>\n",
       "      <td>2011</td>\n",
       "      <td>FEMALE</td>\n",
       "      <td>HISPANIC</td>\n",
       "      <td>GIA</td>\n",
       "      <td>21</td>\n",
       "      <td>67</td>\n",
       "    </tr>\n",
       "    <tr>\n",
       "      <th>2</th>\n",
       "      <td>2011</td>\n",
       "      <td>FEMALE</td>\n",
       "      <td>HISPANIC</td>\n",
       "      <td>GIANNA</td>\n",
       "      <td>49</td>\n",
       "      <td>42</td>\n",
       "    </tr>\n",
       "    <tr>\n",
       "      <th>3</th>\n",
       "      <td>2011</td>\n",
       "      <td>FEMALE</td>\n",
       "      <td>HISPANIC</td>\n",
       "      <td>GISELLE</td>\n",
       "      <td>38</td>\n",
       "      <td>51</td>\n",
       "    </tr>\n",
       "    <tr>\n",
       "      <th>4</th>\n",
       "      <td>2011</td>\n",
       "      <td>FEMALE</td>\n",
       "      <td>HISPANIC</td>\n",
       "      <td>GRACE</td>\n",
       "      <td>36</td>\n",
       "      <td>53</td>\n",
       "    </tr>\n",
       "  </tbody>\n",
       "</table>\n",
       "</div>"
      ],
      "text/plain": [
       "   BRITH_YEAR  GENDER  ETHNICTY       NAME  COUNT  RANK\n",
       "0        2011  FEMALE  HISPANIC  GERALDINE     13    75\n",
       "1        2011  FEMALE  HISPANIC        GIA     21    67\n",
       "2        2011  FEMALE  HISPANIC     GIANNA     49    42\n",
       "3        2011  FEMALE  HISPANIC    GISELLE     38    51\n",
       "4        2011  FEMALE  HISPANIC      GRACE     36    53"
      ]
     },
     "execution_count": 52,
     "metadata": {},
     "output_type": "execute_result"
    }
   ],
   "source": [
    "import pandas as pd \n",
    "\n",
    "baby_names = pd.read_csv('E:/Data Scientist/7. Data Types in Python/baby_names.txt')\n",
    "\n",
    "baby_names.head()"
   ]
  },
  {
   "cell_type": "code",
   "execution_count": 56,
   "id": "9e33572e-cd0f-480b-aa46-39bc5be1932e",
   "metadata": {},
   "outputs": [],
   "source": [
    "# Check to see if 2011 is in baby_names\n",
    "if 2011 in baby_names:\n",
    "    # Print 'Found 2011'\n",
    "    print('Found 2011')"
   ]
  },
  {
   "cell_type": "code",
   "execution_count": 57,
   "id": "dda90843-06a9-4178-8550-b6627850d46a",
   "metadata": {},
   "outputs": [],
   "source": [
    "squirrels_by_park = {\n",
    "    \"J. Hood Wright Park\": {\n",
    "        \"primary_fur_color\": \"Gray\",\n",
    "        \"highlights_in_fur_color\": \"Cinnamon\",\n",
    "        \"activities\": \"Running\",\n",
    "        \"interactions_with_humans\": \"Indifferent\",\n",
    "    },\n",
    "    \"Stuyvesant Square Park\": {\n",
    "        \"primary_fur_color\": \"Gray\",\n",
    "        \"highlights_in_fur_color\": \"Cinnamon\",\n",
    "        \"activities\": \"Foraging\",\n",
    "        \"interactions_with_humans\": \"Indifferent\",\n",
    "    },\n",
    "    \"Highbridge Park\": {\n",
    "        \"primary_fur_color\": \"Gray\",\n",
    "        \"highlights_in_fur_color\": \"White\",\n",
    "        \"activities\": \"Climbing\",\n",
    "        \"interactions_with_humans\": None,\n",
    "    },\n",
    "    \"Tompkins Square Park\": {\n",
    "        \"primary_fur_color\": \"Gray\",\n",
    "        \"highlights_in_fur_color\": \"Gray\",\n",
    "        \"activities\": \"Foraging\",\n",
    "        \"interactions_with_humans\": None,\n",
    "    },\n",
    "    \"Union Square Park\": {\n",
    "        \"primary_fur_color\": \"Gray\",\n",
    "        \"activities\": \"Eating, Foraging\",\n",
    "        \"interactions_with_humans\": None,\n",
    "    },\n",
    "    \"City Hall Park\": {\n",
    "        \"primary_fur_color\": \"Gray\",\n",
    "        \"highlights_in_fur_color\": \"White\",\n",
    "        \"activities\": \"Eating, Foraging\",\n",
    "        \"interactions_with_humans\": \"Indifferent\",\n",
    "    },\n",
    "    \"Msgr. McGolrick Park\": {\n",
    "        \"primary_fur_color\": \"Gray\",\n",
    "        \"highlights_in_fur_color\": \"Cinnamon\",\n",
    "        \"activities\": \"Running\",\n",
    "        \"interactions_with_humans\": \"Indifferent\",\n",
    "    },\n",
    "    \"John V. Lindsay East River Park\": {\n",
    "        \"primary_fur_color\": \"Gray\",\n",
    "        \"highlights_in_fur_color\": \"Gray\",\n",
    "        \"activities\": \"Running, Chasing, Eating\",\n",
    "        \"interactions_with_humans\": None,\n",
    "    },\n",
    "}\n"
   ]
  },
  {
   "cell_type": "code",
   "execution_count": 58,
   "id": "a50c8410-8b63-4408-b540-a16201bc51dd",
   "metadata": {},
   "outputs": [
    {
     "name": "stdout",
     "output_type": "stream",
     "text": [
      "dict_keys(['J. Hood Wright Park', 'Stuyvesant Square Park', 'Highbridge Park', 'Tompkins Square Park', 'Union Square Park', 'City Hall Park', 'Msgr. McGolrick Park', 'John V. Lindsay East River Park'])\n"
     ]
    }
   ],
   "source": [
    "print(squirrels_by_park.keys())"
   ]
  },
  {
   "cell_type": "code",
   "execution_count": 59,
   "id": "df40d2b8-5308-4147-825f-fce4374ee5a9",
   "metadata": {},
   "outputs": [
    {
     "name": "stdout",
     "output_type": "stream",
     "text": [
      "dict_keys(['primary_fur_color', 'activities', 'interactions_with_humans'])\n"
     ]
    }
   ],
   "source": [
    "print(squirrels_by_park['Union Square Park'].keys())"
   ]
  },
  {
   "cell_type": "code",
   "execution_count": 63,
   "id": "2fbf28d8-bd38-4f6c-8468-5aded4e14eea",
   "metadata": {},
   "outputs": [
    {
     "name": "stdout",
     "output_type": "stream",
     "text": [
      "0.0001\n",
      "1e-05\n",
      "1e-07\n",
      "0.000010\n",
      "1e-07\n",
      "0.0000001\n"
     ]
    }
   ],
   "source": [
    "float1 = 0.0001\n",
    "float2 = 1e-05\n",
    "float3 = 1e-07\n",
    "\n",
    "\n",
    "# Print floats 1, 2, and 3\n",
    "print(float1)\n",
    "print(float2)\n",
    "print(float3)\n",
    "\n",
    "# Print floats 2 and 3 using the f string formatter\n",
    "print(f\"{float2:f}\")\n",
    "print(f\"{float3}\")\n",
    "\n",
    "# Print float 3 with a 7 f string precision\n",
    "print(f\"{float3:.7f}\")"
   ]
  },
  {
   "cell_type": "code",
   "execution_count": 64,
   "id": "e7d946df-1ac6-41a4-ad6e-317eb5fe044b",
   "metadata": {},
   "outputs": [
    {
     "name": "stdout",
     "output_type": "stream",
     "text": [
      "2.0\n",
      "0.5\n",
      "2\n",
      "0\n",
      "<class 'float'>\n",
      "<class 'int'>\n"
     ]
    }
   ],
   "source": [
    "# Print the result of 2/1 and 1/2\n",
    "print(2/1)\n",
    "print(1/2)\n",
    "\n",
    "# Print the floored division result of 2//1 and 1//2\n",
    "print(2//1)\n",
    "print(1//2)\n",
    "\n",
    "# Print the type of 2/1 and 2//1\n",
    "print(type(2/1))\n",
    "print(type(2//1))"
   ]
  },
  {
   "cell_type": "code",
   "execution_count": 65,
   "id": "cb19549b-e879-4206-b387-94e5e0918e4c",
   "metadata": {},
   "outputs": [
    {
     "name": "stdout",
     "output_type": "stream",
     "text": [
      "False\n"
     ]
    }
   ],
   "source": [
    "# Create an empty list\n",
    "my_list = []\n",
    "\n",
    "# Check the truthiness of my_list\n",
    "print(bool(my_list))"
   ]
  },
  {
   "cell_type": "code",
   "execution_count": 66,
   "id": "0cb71397-94b4-422b-8870-1c3e7c2a4340",
   "metadata": {},
   "outputs": [
    {
     "name": "stdout",
     "output_type": "stream",
     "text": [
      "True\n"
     ]
    }
   ],
   "source": [
    "my_list.append('cookies')\n",
    "\n",
    "# Check the truthiness of my_list\n",
    "print(bool(my_list))"
   ]
  },
  {
   "cell_type": "code",
   "execution_count": 67,
   "id": "2a0fc1c2-e02c-4d9a-a03d-325c73c944bb",
   "metadata": {},
   "outputs": [],
   "source": [
    "penguins = [\n",
    "    {\"species\": \"Adlie\", \"flipper_length\": 190.0, \"body_mass\": 3050.0, \"sex\": \"FEMALE\"},\n",
    "    {\"species\": \"Adlie\", \"flipper_length\": 184.0, \"body_mass\": 3325.0, \"sex\": \"FEMALE\"},\n",
    "    {\n",
    "        \"species\": \"Gentoo\",\n",
    "        \"flipper_length\": 209.0,\n",
    "        \"body_mass\": 4800.0,\n",
    "        \"sex\": \"FEMALE\",\n",
    "    },\n",
    "    {\"species\": \"Adlie\", \"flipper_length\": 193.0, \"body_mass\": 4200.0, \"sex\": \"MALE\"},\n",
    "    {\n",
    "        \"species\": \"Gentoo\",\n",
    "        \"flipper_length\": 210.0,\n",
    "        \"body_mass\": 4400.0,\n",
    "        \"sex\": \"FEMALE\",\n",
    "    },\n",
    "    {\n",
    "        \"species\": \"Gentoo\",\n",
    "        \"flipper_length\": 213.0,\n",
    "        \"body_mass\": 4650.0,\n",
    "        \"sex\": \"FEMALE\",\n",
    "    },\n",
    "    {\n",
    "        \"species\": \"Chinstrap\",\n",
    "        \"flipper_length\": 193.0,\n",
    "        \"body_mass\": 3600.0,\n",
    "        \"sex\": \"FEMALE\",\n",
    "    },\n",
    "    {\"species\": \"Adlie\", \"flipper_length\": 193.0, \"body_mass\": 3800.0, \"sex\": \"MALE\"},\n",
    "    {\n",
    "        \"species\": \"Chinstrap\",\n",
    "        \"flipper_length\": 199.0,\n",
    "        \"body_mass\": 3900.0,\n",
    "        \"sex\": \"FEMALE\",\n",
    "    },\n",
    "    {\n",
    "        \"species\": \"Chinstrap\",\n",
    "        \"flipper_length\": 195.0,\n",
    "        \"body_mass\": 3650.0,\n",
    "        \"sex\": \"FEMALE\",\n",
    "    },\n",
    "    {\"species\": \"Adlie\", \"flipper_length\": 185.0, \"body_mass\": 3700.0, \"sex\": \"FEMALE\"},\n",
    "    {\n",
    "        \"species\": \"Gentoo\",\n",
    "        \"flipper_length\": 208.0,\n",
    "        \"body_mass\": 4575.0,\n",
    "        \"sex\": \"FEMALE\",\n",
    "    },\n",
    "    {\"species\": \"Adlie\", \"flipper_length\": 196.0, \"body_mass\": 4350.0, \"sex\": \"MALE\"},\n",
    "    {\"species\": \"Adlie\", \"flipper_length\": 191.0, \"body_mass\": 3700.0, \"sex\": \"FEMALE\"},\n",
    "    {\n",
    "        \"species\": \"Chinstrap\",\n",
    "        \"flipper_length\": 195.0,\n",
    "        \"body_mass\": 3300.0,\n",
    "        \"sex\": \"FEMALE\",\n",
    "    },\n",
    "    {\"species\": \"Adlie\", \"flipper_length\": 195.0, \"body_mass\": 3450.0, \"sex\": \"FEMALE\"},\n",
    "    {\"species\": \"Gentoo\", \"flipper_length\": 217.0, \"body_mass\": 4875.0, \"sex\": \".\"},\n",
    "    {\n",
    "        \"species\": \"Gentoo\",\n",
    "        \"flipper_length\": 212.0,\n",
    "        \"body_mass\": 4875.0,\n",
    "        \"sex\": \"FEMALE\",\n",
    "    },\n",
    "    {\"species\": \"Adlie\", \"flipper_length\": 205.0, \"body_mass\": 4300.0, \"sex\": \"MALE\"},\n",
    "    {\"species\": \"Gentoo\", \"flipper_length\": 220.0, \"body_mass\": 6000.0, \"sex\": \"MALE\"},\n",
    "]\n"
   ]
  },
  {
   "cell_type": "code",
   "execution_count": 68,
   "id": "96dce61e-cc8b-43fc-ad7b-f639b5ae22cc",
   "metadata": {},
   "outputs": [
    {
     "name": "stdout",
     "output_type": "stream",
     "text": [
      "Adlie - FEMALE\n",
      "Gentoo - FEMALE\n",
      "Adlie - MALE\n",
      "Gentoo - FEMALE\n",
      "Gentoo - FEMALE\n",
      "Chinstrap - FEMALE\n",
      "Adlie - MALE\n",
      "Chinstrap - FEMALE\n",
      "Chinstrap - FEMALE\n",
      "Adlie - FEMALE\n",
      "Gentoo - FEMALE\n",
      "Adlie - MALE\n",
      "Adlie - FEMALE\n",
      "Adlie - FEMALE\n",
      "Gentoo - .\n",
      "Gentoo - FEMALE\n",
      "Adlie - MALE\n",
      "Gentoo - MALE\n"
     ]
    }
   ],
   "source": [
    "for penguin in penguins:\n",
    "  # Check the penguin entry for a body mass of more than 3300 grams\n",
    "  if penguin[\"body_mass\"] > 3300:\n",
    "  \t# Print the species and sex of the penguin if true\n",
    "    print(f\"{penguin['species']} - {penguin['sex']}\")"
   ]
  },
  {
   "cell_type": "code",
   "execution_count": 69,
   "id": "062a1a12-2ce0-4d73-a637-38a4cd196fb2",
   "metadata": {},
   "outputs": [],
   "source": [
    "penguin_305_details = {\n",
    "    \"species\": \"Adlie\",\n",
    "    \"flipper_length\": 190.0,\n",
    "    \"body_mass\": 3050.0,\n",
    "    \"tracked\": True,\n",
    "    \"sex\": \"FEMALE\",\n",
    "}\n"
   ]
  },
  {
   "cell_type": "code",
   "execution_count": 70,
   "id": "30b71067-8383-419b-b188-f68af3a77184",
   "metadata": {},
   "outputs": [
    {
     "name": "stdout",
     "output_type": "stream",
     "text": [
      "FEMALE: False\n"
     ]
    }
   ],
   "source": [
    "# Check the truthiness of penguin_305_details sex key\n",
    "if penguin_305_details[\"sex\"]:\n",
    "\t# If true, check if sex is True and store it as sex_is_true\n",
    "    sex_is_true = penguin_305_details[\"sex\"] is True\n",
    "    # Print the sex key's value and sex_is_true\n",
    "    print(f\"{penguin_305_details['sex']}: {sex_is_true}\")"
   ]
  },
  {
   "cell_type": "code",
   "execution_count": 71,
   "id": "f344d94d-76b3-46bf-b9c7-a96b0fbb679e",
   "metadata": {},
   "outputs": [
    {
     "name": "stdout",
     "output_type": "stream",
     "text": [
      "True: True\n"
     ]
    }
   ],
   "source": [
    "if penguin_305_details[\"tracked\"]:\n",
    "\t# If true, check if tracked is True and store it as tracked_is_true\n",
    "    tracked_is_true = penguin_305_details[\"tracked\"] is True\n",
    "    # Print the tracked key and tracked_is_true\n",
    "    print(f\"{penguin_305_details['tracked']}: {tracked_is_true}\")"
   ]
  },
  {
   "cell_type": "code",
   "execution_count": 74,
   "id": "65b90f83-3608-40d1-8914-39d3a291303b",
   "metadata": {},
   "outputs": [
    {
     "name": "stdout",
     "output_type": "stream",
     "text": [
      "{'Gentoo', 'Chinstrap', 'Adlie'}\n"
     ]
    }
   ],
   "source": [
    "# Use a list comprehension to iterate over each penguin in penguins saved as female_species_list\n",
    "# If the the sex of the penguin is 'FEMALE', return the species value\n",
    "female_species_list = [penguin[\"species\"] for penguin in penguins if penguin[\"sex\"] == 'FEMALE']\n",
    "\n",
    "# Create a set using the female_species_list as female_penguin_species.\n",
    "female_penguin_species = set(female_species_list)\n",
    "\n",
    "\n",
    "\n",
    "print(female_penguin_species)"
   ]
  },
  {
   "cell_type": "code",
   "execution_count": 75,
   "id": "5fc45412-163f-4277-87e9-c3992b37ebbb",
   "metadata": {},
   "outputs": [
    {
     "name": "stdout",
     "output_type": "stream",
     "text": [
      "{'Chinstrap'}\n"
     ]
    }
   ],
   "source": [
    "male_penguin_species = {'Adlie', 'Gentoo'}\n",
    "\n",
    "# Find the difference between female_penguin_species and male_penguin_species. Store the result as differences\n",
    "differences = female_penguin_species.difference(male_penguin_species)\n",
    "\n",
    "# Print the differences\n",
    "print(differences)"
   ]
  },
  {
   "cell_type": "code",
   "execution_count": 76,
   "id": "96830cfc-afb9-4b67-b92f-fb69dacf9adf",
   "metadata": {},
   "outputs": [
    {
     "name": "stdout",
     "output_type": "stream",
     "text": [
      "3\n",
      "2\n"
     ]
    }
   ],
   "source": [
    "# Find the union: all_species\n",
    "all_species = female_penguin_species.union(male_penguin_species)\n",
    "\n",
    "# Print the count of species in all_species\n",
    "print(len(all_species))\n",
    "\n",
    "# Find the intersection: overlapping_species\n",
    "overlapping_species = female_penguin_species.intersection(male_penguin_species)\n",
    "\n",
    "# Print the count of species in overlapping_species\n",
    "print(len(overlapping_species))"
   ]
  },
  {
   "cell_type": "code",
   "execution_count": 78,
   "id": "6ee3c5d8-7f96-47b7-9f4c-92a1ce00c8a5",
   "metadata": {},
   "outputs": [
    {
     "name": "stdout",
     "output_type": "stream",
     "text": [
      "Counter({'FEMALE': 14, 'MALE': 5, '.': 1})\n"
     ]
    }
   ],
   "source": [
    "\n",
    "# Import the Counter object\n",
    "from collections import Counter\n",
    "\n",
    "# Create a Counter of the penguins sex using a list comp\n",
    "penguins_sex_counts = Counter([penguin['sex'] for penguin in penguins])\n",
    "\n",
    "# Print the penguins_sex_counts\n",
    "print(penguins_sex_counts)"
   ]
  },
  {
   "cell_type": "code",
   "execution_count": 80,
   "id": "442f6936-02ec-46d4-90bc-f7a20e85775b",
   "metadata": {},
   "outputs": [
    {
     "name": "stdout",
     "output_type": "stream",
     "text": [
      "[('Adlie', 9), ('Gentoo', 7), ('Chinstrap', 4)]\n"
     ]
    }
   ],
   "source": [
    "# Import the Counter object\n",
    "from collections import Counter\n",
    "\n",
    "# Create a Counter of the penguins list: penguins_species_counts\n",
    "penguins_species_counts = Counter([penguin['species'] for penguin in penguins])\n",
    "\n",
    "# Find the 3 most common species counts\n",
    "print(penguins_species_counts.most_common(3))"
   ]
  },
  {
   "cell_type": "code",
   "execution_count": 81,
   "id": "59fa5224-0599-4c92-9039-8a568480c852",
   "metadata": {},
   "outputs": [
    {
     "name": "stdout",
     "output_type": "stream",
     "text": [
      "[('FEMALE', 3450.0), ('FEMALE', 3550.0), ('FEMALE', 3175.0)]\n"
     ]
    }
   ],
   "source": [
    "weight_log = [\n",
    "    (\"Chinstrap\", \"FEMALE\", 3800.0),\n",
    "    (\"Adlie\", \"FEMALE\", 3450.0),\n",
    "    (\"Gentoo\", \"FEMALE\", 4300.0),\n",
    "    (\"Adlie\", \"FEMALE\", 3550.0),\n",
    "    (\"Adlie\", \"FEMALE\", 3175.0),\n",
    "]\n",
    "\n",
    "\n",
    "# Create an empty dictionary: female_penguin_weights\n",
    "female_penguin_weights = {}\n",
    "\n",
    "\n",
    "# Iterate over the weight_log entries\n",
    "for species, sex, body_mass in weight_log:\n",
    "    # Check to see if species is already in the dictionary\n",
    "    if species not in female_penguin_weights:\n",
    "        # Create an empty list for any missing species\n",
    "        female_penguin_weights[species] = []\n",
    "    # Append the sex and body_mass as a tuple to the species keys list\n",
    "    female_penguin_weights[species].append((sex, body_mass))\n",
    "    \n",
    "# Print the weights for 'Adlie'\n",
    "print(female_penguin_weights['Adlie'])"
   ]
  },
  {
   "cell_type": "code",
   "execution_count": 82,
   "id": "fb0b7f46-94d2-49a3-9d47-6c13b9200f3a",
   "metadata": {},
   "outputs": [
    {
     "name": "stdout",
     "output_type": "stream",
     "text": [
      "[('Chinstrap', [3800.0]), ('Adlie', [3450.0, 3550.0, 3175.0])]\n"
     ]
    }
   ],
   "source": [
    "# Import defaultdict\n",
    "from collections import defaultdict\n",
    "\n",
    "# Create a defaultdict with a default type of list: male_penguin_weights\n",
    "male_penguin_weights = defaultdict(list)\n",
    "\n",
    "# Iterate over the weight_log entries\n",
    "for species, sex, body_mass in weight_log:\n",
    "    # Use the species as the key, and append the body_mass to it\n",
    "    male_penguin_weights[species].append(body_mass)\n",
    "    \n",
    "# Print the first 2 items of the ridership dictionary\n",
    "print(list(male_penguin_weights.items())[:2])"
   ]
  },
  {
   "cell_type": "code",
   "execution_count": 83,
   "id": "3fbcf4bb-a2f8-47d6-ba6b-8946e25bc4be",
   "metadata": {},
   "outputs": [
    {
     "name": "stdout",
     "output_type": "stream",
     "text": [
      "[SpeciesDetails(species='Chinstrap', sex='FEMALE', body_mass=3800.0), SpeciesDetails(species='Adlie', sex='FEMALE', body_mass=3450.0), SpeciesDetails(species='Gentoo', sex='FEMALE', body_mass=4300.0), SpeciesDetails(species='Adlie', sex='FEMALE', body_mass=3550.0), SpeciesDetails(species='Adlie', sex='FEMALE', body_mass=3175.0)]\n"
     ]
    }
   ],
   "source": [
    "# Import namedtuple from collections\n",
    "from collections import namedtuple\n",
    "\n",
    "# Create the namedtuple: SpeciesDetails\n",
    "SpeciesDetails = namedtuple('SpeciesDetails', ['species', 'sex', 'body_mass'])\n",
    "\n",
    "# Create the empty list: labeled_entries\n",
    "labeled_entries = []\n",
    "\n",
    "# Iterate over the weight_log entries\n",
    "for species, sex, body_mass in weight_log:\n",
    "    # Append a new SpeciesDetails namedtuple instance for each entry to labeled_entries\n",
    "    labeled_entries.append(SpeciesDetails(species, sex, body_mass))\n",
    "    \n",
    "print(labeled_entries[:5])"
   ]
  },
  {
   "cell_type": "code",
   "execution_count": 84,
   "id": "8bb0d743-ba7a-4e97-9dac-c210dc98fb02",
   "metadata": {},
   "outputs": [
    {
     "name": "stdout",
     "output_type": "stream",
     "text": [
      "FEMALE:3800.0\n"
     ]
    }
   ],
   "source": [
    "# Iterate over the first twenty entries in labeled_entries\n",
    "for entry in labeled_entries[:20]:\n",
    "    # if the entry's species equals Chinstrap\n",
    "    if entry.species == 'Chinstrap':\n",
    "      # Print each entry's sex and body_mass seperated by a colon\n",
    "        print(f'{entry.sex}:{entry.body_mass}')\n"
   ]
  },
  {
   "cell_type": "code",
   "execution_count": null,
   "id": "d68717ea-162a-4cbb-8f31-f666bcf75212",
   "metadata": {},
   "outputs": [],
   "source": []
  }
 ],
 "metadata": {
  "kernelspec": {
   "display_name": "Python 3 (ipykernel)",
   "language": "python",
   "name": "python3"
  },
  "language_info": {
   "codemirror_mode": {
    "name": "ipython",
    "version": 3
   },
   "file_extension": ".py",
   "mimetype": "text/x-python",
   "name": "python",
   "nbconvert_exporter": "python",
   "pygments_lexer": "ipython3",
   "version": "3.11.7"
  }
 },
 "nbformat": 4,
 "nbformat_minor": 5
}
